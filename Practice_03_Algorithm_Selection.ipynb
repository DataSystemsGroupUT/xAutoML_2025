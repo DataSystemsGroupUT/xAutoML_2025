{
  "nbformat": 4,
  "nbformat_minor": 0,
  "metadata": {
    "colab": {
      "provenance": []
    },
    "kernelspec": {
      "name": "python3",
      "display_name": "Python 3"
    },
    "language_info": {
      "name": "python"
    }
  },
  "cells": [
    {
      "cell_type": "markdown",
      "source": [
        "\n",
        "#  AutoML: Algorithm Selection in Practice\n",
        "\n",
        "This notebook will provide a hands-on walkthrough of the concepts discussed in the \"AutoML: Algorithm Selection\" lecture. We'll move from theory to practice, building a simple algorithm selection system to understand its core components and challenges.\n",
        "\n",
        "**Session Goals (1.5 hours):**\n",
        "\n",
        "1.  **(15 mins) Motivation Recap & Setup:** Briefly revisit why algorithm selection is crucial and set up our programming environment.\n",
        "2.  **(45 mins) Building an Algorithm Selector:**\n",
        "    *   Create a portfolio of machine learning algorithms.\n",
        "    *   Generate meta-features to describe our datasets.\n",
        "    *   Train a \"meta-model\" to predict the best algorithm for a given dataset.\n",
        "3.  **(20 mins) Evaluation:**\n",
        "    *   Assess the performance of our selector.\n",
        "    *   Compare our selector against baseline methods like the Single Best Solver (SBS) and Virtual Best Solver (VBS).\n",
        "4.  **(10 mins) Discussion & Wrap-up:** Discuss the results and limitations.\n",
        "\n",
        "---"
      ],
      "metadata": {
        "id": "5arTdE9e8_sz"
      }
    },
    {
      "cell_type": "markdown",
      "source": [
        "\n",
        "\n",
        "### **Part 1: Motivation Recap & Environment Setup (15 mins)**\n",
        "\n",
        "As we saw in the lecture, there is no single machine learning algorithm that performs best on all problems (the \"No Free Lunch\" theorem). The performance of an algorithm is highly dependent on the characteristics of the dataset.\n",
        "\n",
        "**The Algorithm Selection Problem:** \"Given a problem, choose the best algorithm to solve it.\"\n",
        "\n",
        "Manually trying every possible algorithm is time-consuming and inefficient. The goal of AutoML's algorithm selection is to automate this process. We will build a system that, given a new dataset, can *predict* which algorithm from a predefined set (our \"portfolio\") will perform best.\n",
        "\n",
        "**Let's start by setting up our environment.** We'll need some common Python libraries for data science.\n"
      ],
      "metadata": {
        "id": "QV6hBk3m9DUo"
      }
    },
    {
      "cell_type": "code",
      "source": [
        "\n",
        "# Import necessary libraries\n",
        "import numpy as np\n",
        "import pandas as pd\n",
        "from sklearn.model_selection import train_test_split, cross_val_score\n",
        "from sklearn.preprocessing import StandardScaler\n",
        "from sklearn.metrics import accuracy_score\n",
        "\n",
        "# Algorithm Portfolio\n",
        "from sklearn.linear_model import LogisticRegression\n",
        "from sklearn.tree import DecisionTreeClassifier\n",
        "from sklearn.neighbors import KNeighborsClassifier\n",
        "from sklearn.svm import SVC\n",
        "from sklearn.ensemble import RandomForestClassifier\n",
        "\n",
        "# For generating datasets\n",
        "from sklearn.datasets import make_classification\n",
        "\n",
        "# For plotting\n",
        "import matplotlib.pyplot as plt\n",
        "import seaborn as sns\n",
        "\n",
        "print(\"Setup Complete!\")\n"
      ],
      "metadata": {
        "colab": {
          "base_uri": "https://localhost:8080/"
        },
        "id": "82RETLfF9FlM",
        "outputId": "92ba7bf9-8771-4020-c438-dd7eef384ba4"
      },
      "execution_count": null,
      "outputs": [
        {
          "output_type": "stream",
          "name": "stdout",
          "text": [
            "Setup Complete!\n"
          ]
        }
      ]
    },
    {
      "cell_type": "markdown",
      "source": [
        "\n",
        "### **Part 2: Building an Algorithm Selector (45 mins)**\n"
      ],
      "metadata": {
        "id": "qBzhxvXM9G2a"
      }
    },
    {
      "cell_type": "markdown",
      "source": [
        "\n",
        "As outlined in the lecture (slide 2), an algorithm selection system has several key components:\n",
        "*   **Portfolio:** A set of candidate algorithms.\n",
        "*   **Meta-features:** Characteristics that describe the dataset.\n",
        "*   **Performance Model:** A model that maps meta-features to predicted algorithm performance.\n",
        "*   **Selector:** The component that uses the performance model to choose an algorithm.\n",
        "\n",
        "Let's build these step-by-step.\n"
      ],
      "metadata": {
        "id": "M1vqUcHo9J5F"
      }
    },
    {
      "cell_type": "markdown",
      "source": [
        "\n",
        "#### **Step 2.1: Define the Algorithm Portfolio**\n",
        "\n",
        "Our portfolio will consist of five well-known classification algorithms from scikit-learn.\n"
      ],
      "metadata": {
        "id": "VpfDvB9a9LeD"
      }
    },
    {
      "cell_type": "code",
      "source": [
        "\n",
        "# Our portfolio of algorithms\n",
        "algorithm_portfolio = {\n",
        "    'LogisticRegression': LogisticRegression(max_iter=1000),\n",
        "    'DecisionTree': DecisionTreeClassifier(),\n",
        "    'KNN': KNeighborsClassifier(),\n",
        "    'SVM': SVC(probability=True),\n",
        "    'RandomForest': RandomForestClassifier()\n",
        "}\n",
        "\n",
        "print(\"Algorithm Portfolio:\")\n",
        "for name in algorithm_portfolio.keys():\n",
        "    print(f\"- {name}\")"
      ],
      "metadata": {
        "colab": {
          "base_uri": "https://localhost:8080/"
        },
        "id": "DIM6_pjN9NdX",
        "outputId": "83e8332b-0389-4ef7-d722-6d72c1974a39"
      },
      "execution_count": null,
      "outputs": [
        {
          "output_type": "stream",
          "name": "stdout",
          "text": [
            "Algorithm Portfolio:\n",
            "- LogisticRegression\n",
            "- DecisionTree\n",
            "- KNN\n",
            "- SVM\n",
            "- RandomForest\n"
          ]
        }
      ]
    },
    {
      "cell_type": "markdown",
      "source": [
        "#### **Step 2.2: Create a Set of \"Training\" Datasets**\n"
      ],
      "metadata": {
        "id": "3GBFcxlq9P-r"
      }
    },
    {
      "cell_type": "markdown",
      "source": [
        "To train our selector, we need data. In this context, our \"data\" is a collection of different datasets. For this exercise, we'll synthetically generate a variety of datasets using `make_classification`. In a real-world scenario, you would use a benchmark suite of actual datasets (like those from OpenML).\n"
      ],
      "metadata": {
        "id": "KcIygMaF9RXS"
      }
    },
    {
      "cell_type": "code",
      "source": [
        "\n",
        "# We will generate 50 synthetic datasets to train our meta-model\n",
        "n_datasets = 50\n",
        "training_datasets = []\n",
        "\n",
        "for i in range(n_datasets):\n",
        "    # Introduce variety in the datasets\n",
        "    n_samples = np.random.randint(200, 1000)\n",
        "    n_features = np.random.randint(5, 50)\n",
        "    n_informative = np.random.randint(2, n_features)\n",
        "    n_redundant = np.random.randint(0, n_features - n_informative)\n",
        "    n_classes = np.random.randint(2, 5)\n",
        "\n",
        "    X, y = make_classification(\n",
        "        n_samples=n_samples,\n",
        "        n_features=n_features,\n",
        "        n_informative=n_informative,\n",
        "        n_redundant=n_redundant,\n",
        "        n_classes=n_classes,\n",
        "        n_clusters_per_class=1,\n",
        "        flip_y=0.05,\n",
        "        random_state=i # for reproducibility\n",
        "    )\n",
        "    training_datasets.append((X, y))\n",
        "\n",
        "print(f\"Generated {len(training_datasets)} datasets for training our selector.\")"
      ],
      "metadata": {
        "colab": {
          "base_uri": "https://localhost:8080/"
        },
        "id": "HnpE8Y4x9TVI",
        "outputId": "cd42c6ae-baa5-440a-e333-f61e20d12fc3"
      },
      "execution_count": null,
      "outputs": [
        {
          "output_type": "stream",
          "name": "stdout",
          "text": [
            "Generated 50 datasets for training our selector.\n"
          ]
        }
      ]
    },
    {
      "cell_type": "markdown",
      "source": [
        "\n",
        "#### **Step 2.3: Extract Meta-Features**\n"
      ],
      "metadata": {
        "id": "YYy368f59W4A"
      }
    },
    {
      "cell_type": "markdown",
      "source": [
        "Now, we need to describe each dataset using numerical characteristics, or **meta-features**. As seen on slide 27, these can be simple properties or more complex statistical measures. We'll use a few simple ones.\n"
      ],
      "metadata": {
        "id": "dPE-w9bN9X-N"
      }
    },
    {
      "cell_type": "code",
      "source": [
        "def extract_meta_features(X, y):\n",
        "    \"\"\"\n",
        "    Extracts simple meta-features from a dataset.\n",
        "    \"\"\"\n",
        "    n_samples, n_features = X.shape\n",
        "    n_classes = len(np.unique(y))\n",
        "    # Feature-to-instance ratio\n",
        "    ratio_features_instances = n_features / n_samples\n",
        "\n",
        "    # We could add many more, like skewness, kurtosis, etc.\n",
        "    # For this exercise, these will suffice.\n",
        "\n",
        "    return {\n",
        "        'n_samples': n_samples,\n",
        "        'n_features': n_features,\n",
        "        'n_classes': n_classes,\n",
        "        'ratio_features_instances': ratio_features_instances\n",
        "    }\n",
        "\n",
        "# Let's test it on our first generated dataset\n",
        "meta_features_example = extract_meta_features(training_datasets[0][0], training_datasets[0][1])\n",
        "print(\"Meta-features for the first dataset:\")\n",
        "print(meta_features_example)"
      ],
      "metadata": {
        "colab": {
          "base_uri": "https://localhost:8080/"
        },
        "id": "rHuAk30X9bIe",
        "outputId": "23b7a7af-1975-4324-9de6-6f8c16aaaedd"
      },
      "execution_count": null,
      "outputs": [
        {
          "output_type": "stream",
          "name": "stdout",
          "text": [
            "Meta-features for the first dataset:\n",
            "{'n_samples': 213, 'n_features': 23, 'n_classes': 4, 'ratio_features_instances': 0.107981220657277}\n"
          ]
        }
      ]
    },
    {
      "cell_type": "markdown",
      "source": [
        "\n",
        "#### **Step 2.4: Measure Algorithm Performance**\n",
        "\n",
        "Next, we need to find out which algorithm in our portfolio is actually the best for each of our training datasets. This will be the \"target\" variable for our meta-model. We'll use cross-validated accuracy as our performance metric.\n",
        "\n",
        "**This step is computationally intensive, as we are training and evaluating every algorithm on every dataset.**\n"
      ],
      "metadata": {
        "id": "ondXfwbf9dwC"
      }
    },
    {
      "cell_type": "code",
      "source": [
        "\n",
        "meta_data = []\n",
        "best_algorithms = []\n",
        "\n",
        "print(\"Evaluating performance of all algorithms on all training datasets...\")\n",
        "\n",
        "for i, (X, y) in enumerate(training_datasets):\n",
        "    print(f\"Processing dataset {i+1}/{len(training_datasets)}...\")\n",
        "\n",
        "    # Standardize features\n",
        "    scaler = StandardScaler()\n",
        "    X_scaled = scaler.fit_transform(X)\n",
        "\n",
        "    # Extract meta-features for this dataset\n",
        "    meta_features = extract_meta_features(X, y)\n",
        "\n",
        "    performances = {}\n",
        "    for name, model in algorithm_portfolio.items():\n",
        "        # Use 3-fold cross-validation for robustness\n",
        "        scores = cross_val_score(model, X_scaled, y, cv=3, scoring='accuracy')\n",
        "        performances[name] = np.mean(scores)\n",
        "\n",
        "    # Find the best performing algorithm for this dataset\n",
        "    best_algo_name = max(performances, key=performances.get)\n",
        "\n",
        "    # Store the meta-features and the name of the best algorithm\n",
        "    meta_data.append(meta_features)\n",
        "    best_algorithms.append(best_algo_name)\n",
        "\n",
        "print(\"\\nPerformance evaluation complete!\")\n",
        "\n",
        "# Create a DataFrame for our meta-dataset\n",
        "meta_df = pd.DataFrame(meta_data)\n",
        "meta_df['best_algorithm'] = best_algorithms\n",
        "\n",
        "print(\"\\nOur final meta-dataset:\")\n",
        "meta_df.head()"
      ],
      "metadata": {
        "colab": {
          "base_uri": "https://localhost:8080/",
          "height": 1000
        },
        "id": "AFezh_609iBN",
        "outputId": "d49cdd8a-ab15-4c0c-fe8c-f50c30e9bc24"
      },
      "execution_count": null,
      "outputs": [
        {
          "output_type": "stream",
          "name": "stdout",
          "text": [
            "Evaluating performance of all algorithms on all training datasets...\n",
            "Processing dataset 1/50...\n",
            "Processing dataset 2/50...\n",
            "Processing dataset 3/50...\n",
            "Processing dataset 4/50...\n",
            "Processing dataset 5/50...\n",
            "Processing dataset 6/50...\n",
            "Processing dataset 7/50...\n",
            "Processing dataset 8/50...\n",
            "Processing dataset 9/50...\n",
            "Processing dataset 10/50...\n",
            "Processing dataset 11/50...\n",
            "Processing dataset 12/50...\n",
            "Processing dataset 13/50...\n",
            "Processing dataset 14/50...\n",
            "Processing dataset 15/50...\n",
            "Processing dataset 16/50...\n",
            "Processing dataset 17/50...\n",
            "Processing dataset 18/50...\n",
            "Processing dataset 19/50...\n",
            "Processing dataset 20/50...\n",
            "Processing dataset 21/50...\n",
            "Processing dataset 22/50...\n",
            "Processing dataset 23/50...\n",
            "Processing dataset 24/50...\n",
            "Processing dataset 25/50...\n",
            "Processing dataset 26/50...\n",
            "Processing dataset 27/50...\n",
            "Processing dataset 28/50...\n",
            "Processing dataset 29/50...\n",
            "Processing dataset 30/50...\n",
            "Processing dataset 31/50...\n",
            "Processing dataset 32/50...\n",
            "Processing dataset 33/50...\n",
            "Processing dataset 34/50...\n",
            "Processing dataset 35/50...\n",
            "Processing dataset 36/50...\n",
            "Processing dataset 37/50...\n",
            "Processing dataset 38/50...\n",
            "Processing dataset 39/50...\n",
            "Processing dataset 40/50...\n",
            "Processing dataset 41/50...\n",
            "Processing dataset 42/50...\n",
            "Processing dataset 43/50...\n",
            "Processing dataset 44/50...\n",
            "Processing dataset 45/50...\n",
            "Processing dataset 46/50...\n",
            "Processing dataset 47/50...\n",
            "Processing dataset 48/50...\n",
            "Processing dataset 49/50...\n",
            "Processing dataset 50/50...\n",
            "\n",
            "Performance evaluation complete!\n",
            "\n",
            "Our final meta-dataset:\n"
          ]
        },
        {
          "output_type": "execute_result",
          "data": {
            "text/plain": [
              "   n_samples  n_features  n_classes  ratio_features_instances best_algorithm\n",
              "0        213          23          4                  0.107981            SVM\n",
              "1        433          38          2                  0.087760            SVM\n",
              "2        716          38          4                  0.053073   RandomForest\n",
              "3        296          46          2                  0.155405            SVM\n",
              "4        283          19          2                  0.067138            SVM"
            ],
            "text/html": [
              "\n",
              "  <div id=\"df-516b62fa-4d2c-4131-b4ee-fe42302c336c\" class=\"colab-df-container\">\n",
              "    <div>\n",
              "<style scoped>\n",
              "    .dataframe tbody tr th:only-of-type {\n",
              "        vertical-align: middle;\n",
              "    }\n",
              "\n",
              "    .dataframe tbody tr th {\n",
              "        vertical-align: top;\n",
              "    }\n",
              "\n",
              "    .dataframe thead th {\n",
              "        text-align: right;\n",
              "    }\n",
              "</style>\n",
              "<table border=\"1\" class=\"dataframe\">\n",
              "  <thead>\n",
              "    <tr style=\"text-align: right;\">\n",
              "      <th></th>\n",
              "      <th>n_samples</th>\n",
              "      <th>n_features</th>\n",
              "      <th>n_classes</th>\n",
              "      <th>ratio_features_instances</th>\n",
              "      <th>best_algorithm</th>\n",
              "    </tr>\n",
              "  </thead>\n",
              "  <tbody>\n",
              "    <tr>\n",
              "      <th>0</th>\n",
              "      <td>213</td>\n",
              "      <td>23</td>\n",
              "      <td>4</td>\n",
              "      <td>0.107981</td>\n",
              "      <td>SVM</td>\n",
              "    </tr>\n",
              "    <tr>\n",
              "      <th>1</th>\n",
              "      <td>433</td>\n",
              "      <td>38</td>\n",
              "      <td>2</td>\n",
              "      <td>0.087760</td>\n",
              "      <td>SVM</td>\n",
              "    </tr>\n",
              "    <tr>\n",
              "      <th>2</th>\n",
              "      <td>716</td>\n",
              "      <td>38</td>\n",
              "      <td>4</td>\n",
              "      <td>0.053073</td>\n",
              "      <td>RandomForest</td>\n",
              "    </tr>\n",
              "    <tr>\n",
              "      <th>3</th>\n",
              "      <td>296</td>\n",
              "      <td>46</td>\n",
              "      <td>2</td>\n",
              "      <td>0.155405</td>\n",
              "      <td>SVM</td>\n",
              "    </tr>\n",
              "    <tr>\n",
              "      <th>4</th>\n",
              "      <td>283</td>\n",
              "      <td>19</td>\n",
              "      <td>2</td>\n",
              "      <td>0.067138</td>\n",
              "      <td>SVM</td>\n",
              "    </tr>\n",
              "  </tbody>\n",
              "</table>\n",
              "</div>\n",
              "    <div class=\"colab-df-buttons\">\n",
              "\n",
              "  <div class=\"colab-df-container\">\n",
              "    <button class=\"colab-df-convert\" onclick=\"convertToInteractive('df-516b62fa-4d2c-4131-b4ee-fe42302c336c')\"\n",
              "            title=\"Convert this dataframe to an interactive table.\"\n",
              "            style=\"display:none;\">\n",
              "\n",
              "  <svg xmlns=\"http://www.w3.org/2000/svg\" height=\"24px\" viewBox=\"0 -960 960 960\">\n",
              "    <path d=\"M120-120v-720h720v720H120Zm60-500h600v-160H180v160Zm220 220h160v-160H400v160Zm0 220h160v-160H400v160ZM180-400h160v-160H180v160Zm440 0h160v-160H620v160ZM180-180h160v-160H180v160Zm440 0h160v-160H620v160Z\"/>\n",
              "  </svg>\n",
              "    </button>\n",
              "\n",
              "  <style>\n",
              "    .colab-df-container {\n",
              "      display:flex;\n",
              "      gap: 12px;\n",
              "    }\n",
              "\n",
              "    .colab-df-convert {\n",
              "      background-color: #E8F0FE;\n",
              "      border: none;\n",
              "      border-radius: 50%;\n",
              "      cursor: pointer;\n",
              "      display: none;\n",
              "      fill: #1967D2;\n",
              "      height: 32px;\n",
              "      padding: 0 0 0 0;\n",
              "      width: 32px;\n",
              "    }\n",
              "\n",
              "    .colab-df-convert:hover {\n",
              "      background-color: #E2EBFA;\n",
              "      box-shadow: 0px 1px 2px rgba(60, 64, 67, 0.3), 0px 1px 3px 1px rgba(60, 64, 67, 0.15);\n",
              "      fill: #174EA6;\n",
              "    }\n",
              "\n",
              "    .colab-df-buttons div {\n",
              "      margin-bottom: 4px;\n",
              "    }\n",
              "\n",
              "    [theme=dark] .colab-df-convert {\n",
              "      background-color: #3B4455;\n",
              "      fill: #D2E3FC;\n",
              "    }\n",
              "\n",
              "    [theme=dark] .colab-df-convert:hover {\n",
              "      background-color: #434B5C;\n",
              "      box-shadow: 0px 1px 3px 1px rgba(0, 0, 0, 0.15);\n",
              "      filter: drop-shadow(0px 1px 2px rgba(0, 0, 0, 0.3));\n",
              "      fill: #FFFFFF;\n",
              "    }\n",
              "  </style>\n",
              "\n",
              "    <script>\n",
              "      const buttonEl =\n",
              "        document.querySelector('#df-516b62fa-4d2c-4131-b4ee-fe42302c336c button.colab-df-convert');\n",
              "      buttonEl.style.display =\n",
              "        google.colab.kernel.accessAllowed ? 'block' : 'none';\n",
              "\n",
              "      async function convertToInteractive(key) {\n",
              "        const element = document.querySelector('#df-516b62fa-4d2c-4131-b4ee-fe42302c336c');\n",
              "        const dataTable =\n",
              "          await google.colab.kernel.invokeFunction('convertToInteractive',\n",
              "                                                    [key], {});\n",
              "        if (!dataTable) return;\n",
              "\n",
              "        const docLinkHtml = 'Like what you see? Visit the ' +\n",
              "          '<a target=\"_blank\" href=https://colab.research.google.com/notebooks/data_table.ipynb>data table notebook</a>'\n",
              "          + ' to learn more about interactive tables.';\n",
              "        element.innerHTML = '';\n",
              "        dataTable['output_type'] = 'display_data';\n",
              "        await google.colab.output.renderOutput(dataTable, element);\n",
              "        const docLink = document.createElement('div');\n",
              "        docLink.innerHTML = docLinkHtml;\n",
              "        element.appendChild(docLink);\n",
              "      }\n",
              "    </script>\n",
              "  </div>\n",
              "\n",
              "\n",
              "    <div id=\"df-dd9e56d5-8e5e-4c99-b3d9-7bf04a7bc862\">\n",
              "      <button class=\"colab-df-quickchart\" onclick=\"quickchart('df-dd9e56d5-8e5e-4c99-b3d9-7bf04a7bc862')\"\n",
              "                title=\"Suggest charts\"\n",
              "                style=\"display:none;\">\n",
              "\n",
              "<svg xmlns=\"http://www.w3.org/2000/svg\" height=\"24px\"viewBox=\"0 0 24 24\"\n",
              "     width=\"24px\">\n",
              "    <g>\n",
              "        <path d=\"M19 3H5c-1.1 0-2 .9-2 2v14c0 1.1.9 2 2 2h14c1.1 0 2-.9 2-2V5c0-1.1-.9-2-2-2zM9 17H7v-7h2v7zm4 0h-2V7h2v10zm4 0h-2v-4h2v4z\"/>\n",
              "    </g>\n",
              "</svg>\n",
              "      </button>\n",
              "\n",
              "<style>\n",
              "  .colab-df-quickchart {\n",
              "      --bg-color: #E8F0FE;\n",
              "      --fill-color: #1967D2;\n",
              "      --hover-bg-color: #E2EBFA;\n",
              "      --hover-fill-color: #174EA6;\n",
              "      --disabled-fill-color: #AAA;\n",
              "      --disabled-bg-color: #DDD;\n",
              "  }\n",
              "\n",
              "  [theme=dark] .colab-df-quickchart {\n",
              "      --bg-color: #3B4455;\n",
              "      --fill-color: #D2E3FC;\n",
              "      --hover-bg-color: #434B5C;\n",
              "      --hover-fill-color: #FFFFFF;\n",
              "      --disabled-bg-color: #3B4455;\n",
              "      --disabled-fill-color: #666;\n",
              "  }\n",
              "\n",
              "  .colab-df-quickchart {\n",
              "    background-color: var(--bg-color);\n",
              "    border: none;\n",
              "    border-radius: 50%;\n",
              "    cursor: pointer;\n",
              "    display: none;\n",
              "    fill: var(--fill-color);\n",
              "    height: 32px;\n",
              "    padding: 0;\n",
              "    width: 32px;\n",
              "  }\n",
              "\n",
              "  .colab-df-quickchart:hover {\n",
              "    background-color: var(--hover-bg-color);\n",
              "    box-shadow: 0 1px 2px rgba(60, 64, 67, 0.3), 0 1px 3px 1px rgba(60, 64, 67, 0.15);\n",
              "    fill: var(--button-hover-fill-color);\n",
              "  }\n",
              "\n",
              "  .colab-df-quickchart-complete:disabled,\n",
              "  .colab-df-quickchart-complete:disabled:hover {\n",
              "    background-color: var(--disabled-bg-color);\n",
              "    fill: var(--disabled-fill-color);\n",
              "    box-shadow: none;\n",
              "  }\n",
              "\n",
              "  .colab-df-spinner {\n",
              "    border: 2px solid var(--fill-color);\n",
              "    border-color: transparent;\n",
              "    border-bottom-color: var(--fill-color);\n",
              "    animation:\n",
              "      spin 1s steps(1) infinite;\n",
              "  }\n",
              "\n",
              "  @keyframes spin {\n",
              "    0% {\n",
              "      border-color: transparent;\n",
              "      border-bottom-color: var(--fill-color);\n",
              "      border-left-color: var(--fill-color);\n",
              "    }\n",
              "    20% {\n",
              "      border-color: transparent;\n",
              "      border-left-color: var(--fill-color);\n",
              "      border-top-color: var(--fill-color);\n",
              "    }\n",
              "    30% {\n",
              "      border-color: transparent;\n",
              "      border-left-color: var(--fill-color);\n",
              "      border-top-color: var(--fill-color);\n",
              "      border-right-color: var(--fill-color);\n",
              "    }\n",
              "    40% {\n",
              "      border-color: transparent;\n",
              "      border-right-color: var(--fill-color);\n",
              "      border-top-color: var(--fill-color);\n",
              "    }\n",
              "    60% {\n",
              "      border-color: transparent;\n",
              "      border-right-color: var(--fill-color);\n",
              "    }\n",
              "    80% {\n",
              "      border-color: transparent;\n",
              "      border-right-color: var(--fill-color);\n",
              "      border-bottom-color: var(--fill-color);\n",
              "    }\n",
              "    90% {\n",
              "      border-color: transparent;\n",
              "      border-bottom-color: var(--fill-color);\n",
              "    }\n",
              "  }\n",
              "</style>\n",
              "\n",
              "      <script>\n",
              "        async function quickchart(key) {\n",
              "          const quickchartButtonEl =\n",
              "            document.querySelector('#' + key + ' button');\n",
              "          quickchartButtonEl.disabled = true;  // To prevent multiple clicks.\n",
              "          quickchartButtonEl.classList.add('colab-df-spinner');\n",
              "          try {\n",
              "            const charts = await google.colab.kernel.invokeFunction(\n",
              "                'suggestCharts', [key], {});\n",
              "          } catch (error) {\n",
              "            console.error('Error during call to suggestCharts:', error);\n",
              "          }\n",
              "          quickchartButtonEl.classList.remove('colab-df-spinner');\n",
              "          quickchartButtonEl.classList.add('colab-df-quickchart-complete');\n",
              "        }\n",
              "        (() => {\n",
              "          let quickchartButtonEl =\n",
              "            document.querySelector('#df-dd9e56d5-8e5e-4c99-b3d9-7bf04a7bc862 button');\n",
              "          quickchartButtonEl.style.display =\n",
              "            google.colab.kernel.accessAllowed ? 'block' : 'none';\n",
              "        })();\n",
              "      </script>\n",
              "    </div>\n",
              "\n",
              "    </div>\n",
              "  </div>\n"
            ],
            "application/vnd.google.colaboratory.intrinsic+json": {
              "type": "dataframe",
              "variable_name": "meta_df",
              "summary": "{\n  \"name\": \"meta_df\",\n  \"rows\": 50,\n  \"fields\": [\n    {\n      \"column\": \"n_samples\",\n      \"properties\": {\n        \"dtype\": \"number\",\n        \"std\": 219,\n        \"min\": 213,\n        \"max\": 991,\n        \"num_unique_values\": 49,\n        \"samples\": [\n          714,\n          313,\n          760\n        ],\n        \"semantic_type\": \"\",\n        \"description\": \"\"\n      }\n    },\n    {\n      \"column\": \"n_features\",\n      \"properties\": {\n        \"dtype\": \"number\",\n        \"std\": 14,\n        \"min\": 5,\n        \"max\": 49,\n        \"num_unique_values\": 25,\n        \"samples\": [\n          33,\n          14,\n          23\n        ],\n        \"semantic_type\": \"\",\n        \"description\": \"\"\n      }\n    },\n    {\n      \"column\": \"n_classes\",\n      \"properties\": {\n        \"dtype\": \"number\",\n        \"std\": 0,\n        \"min\": 2,\n        \"max\": 4,\n        \"num_unique_values\": 3,\n        \"samples\": [\n          4,\n          2,\n          3\n        ],\n        \"semantic_type\": \"\",\n        \"description\": \"\"\n      }\n    },\n    {\n      \"column\": \"ratio_features_instances\",\n      \"properties\": {\n        \"dtype\": \"number\",\n        \"std\": 0.03979339714078135,\n        \"min\": 0.005924170616113744,\n        \"max\": 0.17424242424242425,\n        \"num_unique_values\": 50,\n        \"samples\": [\n          0.06442577030812324,\n          0.03427719821162444,\n          0.03934426229508197\n        ],\n        \"semantic_type\": \"\",\n        \"description\": \"\"\n      }\n    },\n    {\n      \"column\": \"best_algorithm\",\n      \"properties\": {\n        \"dtype\": \"category\",\n        \"num_unique_values\": 4,\n        \"samples\": [\n          \"RandomForest\",\n          \"KNN\",\n          \"SVM\"\n        ],\n        \"semantic_type\": \"\",\n        \"description\": \"\"\n      }\n    }\n  ]\n}"
            }
          },
          "metadata": {},
          "execution_count": 5
        }
      ]
    },
    {
      "cell_type": "markdown",
      "source": [
        "Let's quickly visualize which algorithms were chosen most often.\n"
      ],
      "metadata": {
        "id": "tNoq5Sce9k0i"
      }
    },
    {
      "cell_type": "code",
      "source": [
        "plt.figure(figsize=(10, 6))\n",
        "sns.countplot(x='best_algorithm', data=meta_df, order=meta_df['best_algorithm'].value_counts().index)\n",
        "plt.title('Frequency of Best Performing Algorithms Across Datasets')\n",
        "plt.xlabel('Algorithm')\n",
        "plt.ylabel('Number of Times it was the Best')\n",
        "plt.show()"
      ],
      "metadata": {
        "colab": {
          "base_uri": "https://localhost:8080/",
          "height": 564
        },
        "id": "oX-VJWTr9mVd",
        "outputId": "3837d1c2-a3df-4833-933e-0ef89aadeb1d"
      },
      "execution_count": null,
      "outputs": [
        {
          "output_type": "display_data",
          "data": {
            "text/plain": [
              "<Figure size 1000x600 with 1 Axes>"
            ],
            "image/png": "[encoded data removed]"
          },
          "metadata": {}
        }
      ]
    },
    {
      "cell_type": "markdown",
      "source": [
        "#### **Step 2.5: Train the Performance Model (The \"Selector\")**\n"
      ],
      "metadata": {
        "id": "m_QVBAP09of7"
      }
    },
    {
      "cell_type": "markdown",
      "source": [
        "\n",
        "We now have a \"meta-dataset\"! The features are the characteristics of each dataset (our meta-features), and the target is the name of the best algorithm.\n",
        "\n",
        "We can train a machine learning model on this meta-dataset. This model will learn the relationship between dataset characteristics and algorithm performance. This is our **performance model** or **selector**.\n",
        "\n",
        "We will use a `RandomForestClassifier` as our meta-model because they are generally robust and work well on tabular data."
      ],
      "metadata": {
        "id": "zw_lCFLz9piG"
      }
    },
    {
      "cell_type": "code",
      "source": [
        "# Prepare the data for training the meta-model\n",
        "X_meta = meta_df.drop('best_algorithm', axis=1)\n",
        "y_meta = meta_df['best_algorithm']\n",
        "\n",
        "# Split the meta-dataset into training and testing sets\n",
        "X_meta_train, X_meta_test, y_meta_train, y_meta_test = train_test_split(\n",
        "    X_meta, y_meta, test_size=0.3, random_state=42\n",
        ")\n",
        "\n",
        "# Our selector is a classifier trained on meta-data\n",
        "selector_model = RandomForestClassifier(n_estimators=100, random_state=42)\n",
        "selector_model.fit(X_meta_train, y_meta_train)\n",
        "\n",
        "# Evaluate the selector model on the held-out meta-test set\n",
        "selector_accuracy = selector_model.score(X_meta_test, y_meta_test)\n",
        "print(f\"Accuracy of our selector model: {selector_accuracy:.2f}\")\n",
        "print(\"This means our model can correctly predict the best algorithm for an unseen dataset about \" + f\"{selector_accuracy*100:.0f}% of the time.\")"
      ],
      "metadata": {
        "colab": {
          "base_uri": "https://localhost:8080/"
        },
        "id": "8hcFpgT99uwf",
        "outputId": "e7ca56e9-87ea-46d5-d230-fb579a053287"
      },
      "execution_count": null,
      "outputs": [
        {
          "output_type": "stream",
          "name": "stdout",
          "text": [
            "Accuracy of our selector model: 0.53\n",
            "This means our model can correctly predict the best algorithm for an unseen dataset about 53% of the time.\n"
          ]
        }
      ]
    },
    {
      "cell_type": "markdown",
      "source": [
        "### **Part 3: Evaluation (20 mins)**\n",
        "\n",
        "Now for the crucial part. How good is our system? We need to compare its performance on **new, unseen datasets** against some baselines. As discussed on slide 39, we'll use:\n",
        "\n",
        "*   **Single Best Solver (SBS):** The algorithm from our portfolio that performs best *on average* across all the *training* datasets. This is our \"naive\" baseline.\n",
        "*   **Virtual Best Solver (VBS):** The theoretical \"perfect\" selector. For each test dataset, it magically knows and picks the best-performing algorithm. This represents the upper bound on performance."
      ],
      "metadata": {
        "id": "Z-VSyeAW9wIh"
      }
    },
    {
      "cell_type": "markdown",
      "source": [
        "#### **Step 3.1: Identify the Single Best Solver (SBS)**\n"
      ],
      "metadata": {
        "id": "fvXeXlKY9yOE"
      }
    },
    {
      "cell_type": "markdown",
      "source": [
        "Let's find the SBS from our training phase.\n"
      ],
      "metadata": {
        "id": "TtCRNpLj9zfC"
      }
    },
    {
      "cell_type": "code",
      "source": [
        "sbs_name = meta_df['best_algorithm'].mode()[0]\n",
        "print(f\"The Single Best Solver (SBS) is: {sbs_name}\")"
      ],
      "metadata": {
        "colab": {
          "base_uri": "https://localhost:8080/"
        },
        "id": "zgzwYN_H91Sw",
        "outputId": "5ab70528-2adb-4a0e-c90c-887e6e8ddbe9"
      },
      "execution_count": null,
      "outputs": [
        {
          "output_type": "stream",
          "name": "stdout",
          "text": [
            "The Single Best Solver (SBS) is: SVM\n"
          ]
        }
      ]
    },
    {
      "cell_type": "markdown",
      "source": [
        "\n",
        "#### **Step 3.2: Create New \"Test\" Datasets**\n",
        "\n",
        "Let's generate 10 new datasets that our system has never seen before."
      ],
      "metadata": {
        "id": "FiMx9COr9312"
      }
    },
    {
      "cell_type": "code",
      "source": [
        "# Generate 10 new test datasets\n",
        "n_test_datasets = 10\n",
        "test_datasets = []\n",
        "\n",
        "for i in range(n_datasets, n_datasets + n_test_datasets): # Use different random seeds\n",
        "    n_samples = np.random.randint(200, 1000)\n",
        "    n_features = np.random.randint(5, 50)\n",
        "    n_informative = np.random.randint(2, n_features)\n",
        "    n_redundant = np.random.randint(0, n_features - n_informative)\n",
        "    n_classes = np.random.randint(2, 5)\n",
        "\n",
        "    X, y = make_classification(\n",
        "        n_samples=n_samples,\n",
        "        n_features=n_features,\n",
        "        n_informative=n_informative,\n",
        "        n_redundant=n_redundant,\n",
        "        n_classes=n_classes,\n",
        "        n_clusters_per_class=1,\n",
        "        flip_y=0.05,\n",
        "        random_state=i\n",
        "    )\n",
        "    test_datasets.append((X, y))\n",
        "\n",
        "print(f\"Generated {len(test_datasets)} new datasets for testing.\")"
      ],
      "metadata": {
        "colab": {
          "base_uri": "https://localhost:8080/"
        },
        "id": "CxhCi4LY96Cd",
        "outputId": "369b73e5-d800-46c6-d6f9-96d9484fac9c"
      },
      "execution_count": null,
      "outputs": [
        {
          "output_type": "stream",
          "name": "stdout",
          "text": [
            "Generated 10 new datasets for testing.\n"
          ]
        }
      ]
    },
    {
      "cell_type": "markdown",
      "source": [
        "#### **Step 3.3: Evaluate Our Selector and the Baselines**\n",
        "\n",
        "Now we will loop through each test dataset and do the following:\n",
        "1.  Calculate the performance of **every** algorithm in our portfolio to find the ground truth.\n",
        "2.  Determine the performance of the **Virtual Best Solver (VBS)** (the maximum achievable accuracy).\n",
        "3.  Determine the performance of the **Single Best Solver (SBS)**.\n",
        "4.  Use our **Selector** to predict the best algorithm, and then measure its actual performance."
      ],
      "metadata": {
        "id": "LENnOvgH-IUT"
      }
    },
    {
      "cell_type": "code",
      "source": [
        "results = []\n",
        "\n",
        "for i, (X_test, y_test) in enumerate(test_datasets):\n",
        "    print(f\"Evaluating on test dataset {i+1}/{len(test_datasets)}...\")\n",
        "\n",
        "    # --- 1. Get Ground Truth Performance for All Algorithms ---\n",
        "    scaler = StandardScaler()\n",
        "    X_test_scaled = scaler.fit_transform(X_test)\n",
        "\n",
        "    actual_performances = {}\n",
        "    for name, model in algorithm_portfolio.items():\n",
        "        # For simplicity, we'll just test on a single train/test split here\n",
        "        # In a real evaluation, you would use cross-validation\n",
        "        X_train_part, X_val_part, y_train_part, y_val_part = train_test_split(X_test_scaled, y_test, test_size=0.3, random_state=42)\n",
        "        model.fit(X_train_part, y_train_part)\n",
        "        predictions = model.predict(X_val_part)\n",
        "        actual_performances[name] = accuracy_score(y_val_part, predictions)\n",
        "\n",
        "    # --- 2. Determine VBS Performance ---\n",
        "    vbs_performance = max(actual_performances.values())\n",
        "\n",
        "    # --- 3. Determine SBS Performance ---\n",
        "    sbs_performance = actual_performances[sbs_name]\n",
        "\n",
        "    # --- 4. Use Our Selector to Predict and Evaluate ---\n",
        "    # Extract meta-features from the new dataset\n",
        "    test_meta_features = extract_meta_features(X_test, y_test)\n",
        "    test_meta_df = pd.DataFrame([test_meta_features])\n",
        "\n",
        "    # Predict the best algorithm\n",
        "    predicted_algo_name = selector_model.predict(test_meta_df)[0]\n",
        "\n",
        "    # Get the actual performance of the algorithm our selector chose\n",
        "    selector_performance = actual_performances[predicted_algo_name]\n",
        "\n",
        "    # Store results\n",
        "    results.append({\n",
        "        'Dataset': i+1,\n",
        "        'Selector_Choice': predicted_algo_name,\n",
        "        'Selector_Perf': selector_performance,\n",
        "        'SBS_Perf': sbs_performance,\n",
        "        'VBS_Perf': vbs_performance,\n",
        "        'Actual_Best': max(actual_performances, key=actual_performances.get)\n",
        "    })\n",
        "\n",
        "results_df = pd.DataFrame(results)\n",
        "print(\"\\n--- Evaluation Results ---\")\n",
        "print(results_df)\n"
      ],
      "metadata": {
        "colab": {
          "base_uri": "https://localhost:8080/"
        },
        "id": "SChNX9m7-L3Z",
        "outputId": "fe703848-21f7-49f2-a34b-b98909b184f8"
      },
      "execution_count": null,
      "outputs": [
        {
          "output_type": "stream",
          "name": "stdout",
          "text": [
            "Evaluating on test dataset 1/10...\n",
            "Evaluating on test dataset 2/10...\n",
            "Evaluating on test dataset 3/10...\n",
            "Evaluating on test dataset 4/10...\n",
            "Evaluating on test dataset 5/10...\n",
            "Evaluating on test dataset 6/10...\n",
            "Evaluating on test dataset 7/10...\n",
            "Evaluating on test dataset 8/10...\n",
            "Evaluating on test dataset 9/10...\n",
            "Evaluating on test dataset 10/10...\n",
            "\n",
            "--- Evaluation Results ---\n",
            "   Dataset Selector_Choice  Selector_Perf  SBS_Perf  VBS_Perf  \\\n",
            "0        1             SVM       0.948187  0.948187  0.948187   \n",
            "1        2             SVM       0.909910  0.909910  0.909910   \n",
            "2        3             SVM       0.950943  0.950943  0.950943   \n",
            "3        4             SVM       0.964286  0.964286  0.964286   \n",
            "4        5             SVM       0.943396  0.943396  0.943396   \n",
            "5        6    RandomForest       0.848214  0.830357  0.848214   \n",
            "6        7             SVM       0.953846  0.953846  0.953846   \n",
            "7        8    RandomForest       0.953390  0.966102  0.966102   \n",
            "8        9             SVM       0.876712  0.876712  0.876712   \n",
            "9       10             SVM       0.921875  0.921875  0.932292   \n",
            "\n",
            "          Actual_Best  \n",
            "0                 SVM  \n",
            "1                 SVM  \n",
            "2                 SVM  \n",
            "3                 KNN  \n",
            "4                 SVM  \n",
            "5        RandomForest  \n",
            "6                 SVM  \n",
            "7  LogisticRegression  \n",
            "8                 SVM  \n",
            "9                 KNN  \n"
          ]
        }
      ]
    },
    {
      "cell_type": "markdown",
      "source": [
        "#### **Step 3.4: Final Comparison**\n",
        "\n",
        "Let's look at the average performance across all test datasets."
      ],
      "metadata": {
        "id": "BHKFjbXi-Ukw"
      }
    },
    {
      "cell_type": "code",
      "source": [
        "avg_selector_perf = results_df['Selector_Perf'].mean()\n",
        "avg_sbs_perf = results_df['SBS_Perf'].mean()\n",
        "avg_vbs_perf = results_df['VBS_Perf'].mean()\n",
        "\n",
        "print(f\"\\n--- Average Performance Across Test Datasets ---\")\n",
        "print(f\"Single Best Solver (SBS):  {avg_sbs_perf:.4f}\")\n",
        "print(f\"Our Algorithm Selector:    {avg_selector_perf:.4f}\")\n",
        "print(f\"Virtual Best Solver (VBS): {avg_vbs_perf:.4f}\")\n",
        "\n",
        "# Visualize the comparison\n",
        "labels = ['Single Best Solver', 'Our Selector', 'Virtual Best Solver']\n",
        "scores = [avg_sbs_perf, avg_selector_perf, avg_vbs_perf]\n",
        "\n",
        "plt.figure(figsize=(8, 6))\n",
        "bars = plt.bar(labels, scores, color=['#ff9999','#66b3ff','#99ff99'])\n",
        "plt.ylabel('Average Accuracy')\n",
        "plt.title('Performance Comparison')\n",
        "plt.ylim(bottom=min(scores) - 0.05, top=1.0)\n",
        "\n",
        "for bar in bars:\n",
        "    yval = bar.get_height()\n",
        "    plt.text(bar.get_x() + bar.get_width()/2.0, yval, f'{yval:.4f}', va='bottom', ha='center')\n",
        "\n",
        "plt.show()"
      ],
      "metadata": {
        "colab": {
          "base_uri": "https://localhost:8080/",
          "height": 635
        },
        "id": "GXdcX4I--W7k",
        "outputId": "9552551a-3d1b-471a-c976-f4c76e6b0a5e"
      },
      "execution_count": null,
      "outputs": [
        {
          "output_type": "stream",
          "name": "stdout",
          "text": [
            "\n",
            "--- Average Performance Across Test Datasets ---\n",
            "Single Best Solver (SBS):  0.9266\n",
            "Our Algorithm Selector:    0.9271\n",
            "Virtual Best Solver (VBS): 0.9294\n"
          ]
        },
        {
          "output_type": "display_data",
          "data": {
            "text/plain": [
              "<Figure size 800x600 with 1 Axes>"
            ],
            "image/png": "[encoded data removed]"
          },
          "metadata": {}
        }
      ]
    },
    {
      "cell_type": "markdown",
      "source": [
        "### **Part 4: Discussion & Wrap-up (10 mins)**\n",
        "\n",
        "Look at the results.\n",
        "*   Did our selector perform better than the Single Best Solver? Hopefully, yes! This shows that the intelligence we added was worthwhile.\n",
        "*   How close did we get to the Virtual Best Solver? The gap between our selector and the VBS shows the room for improvement.\n",
        "\n",
        "**Discussion Questions:**\n",
        "\n",
        "1.  **Why isn't our selector perfect?**\n",
        "    *   *Answer:* Our meta-features might not be descriptive enough. Our meta-model might not be powerful enough. We only used a limited number of \"training\" datasets.\n",
        "2.  **How could we improve our selector?**\n",
        "    *   *Answer:* Add more informative meta-features (statistical, information-theoretic, etc., as on slide 27). Use a larger and more diverse set of training datasets. Use a more sophisticated meta-model.\n",
        "3.  **What is the main cost of building this system?**\n",
        "    *   *Answer:* The offline computation (Step 2.4), where we have to run every algorithm on every training dataset. This can take a very long time for large portfolios and dataset collections. The cost of extracting meta-features must also be cheaper than just running the algorithm itself (slide 26).\n",
        "\n",
        "**Congratulations!** You have just built and evaluated a complete, albeit simple, AutoML algorithm selection system from scratch. You've seen how we can use machine learning to solve the problem of choosing the best machine learning algorithm."
      ],
      "metadata": {
        "id": "LW4vgqXV-apP"
      }
    }
  ]
}